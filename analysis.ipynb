{
 "cells": [
  {
   "cell_type": "code",
   "execution_count": 1,
   "id": "dbb34adf",
   "metadata": {},
   "outputs": [],
   "source": [
    "import pandas as pd\n",
    "from data_processor import DataProcessor as dp"
   ]
  },
  {
   "cell_type": "code",
   "execution_count": 2,
   "id": "4d9b6c47",
   "metadata": {},
   "outputs": [
    {
     "name": "stdout",
     "output_type": "stream",
     "text": [
      "Fatture categorizzate dataset shape: (25194, 16)\n",
      "                      SourceName  CODICE_COMMITTENTE  ALIQUOTA_IVA       DATA       P_IVA UNITAMISURA  IMPORTO_TOTALE_DOCUMENTO     NUMERO TIPO_DOCUMENTO                                  RAGIONE_SOCIALE  SEDE_INDIRIZZO_CESSIONARIO  QUANTITA                                                                                                                                                                                             DESCRIZIONE  IMPONIBILE_IMPORTO  PREZZO_UNITARIO            CATEGORIA\n",
      "             IT04157540966_4iikp        1.009275e+10          10.0 2024-03-29  2827030962         NaN                   1263.29      4iikp           TD01                              METRO Italia S.p.A.     VIA FRANCESCO ALGAROTTI       1.0                                                                                                                                                                                  G.500 LIEVITO  IN PANI                6.75            6.750                 Food\n",
      "IT12281740154Z0001_PH6JZ.xml.p7m        1.009275e+10           4.0 2024-02-29 12284630154          KG                   8545.21     1PH6JZ           TD24                       FRUTTETO CASAGRANDE S.R.L.  VIA FRANCESCO ALGAROTTI 22      10.0                                                                                                                                                                                FUNGHI PORCINI SURGELATI              168.00           16.800                 Food\n",
      "        ITRSCFBA59B18B250M_26643        5.997081e+09          10.0 2024-02-29  1109990315          KG                   2220.28      26643           TD24                                     SARDAMAR SRL        VIA G. C. Procaccini       4.8                                          Canocchia fresca (Squilla mantis) (MTS) Pescato nel Mar Med. centrale - FAO 37.2.1 Mar Adriatico - Reti da traino Lotto: 240228-729/3 - LOTTO FORNITORE 280224               66.72           13.900                 Food\n",
      "IT12281740154Z0001_RVEFQ.xml.p7m        5.997081e+09           4.0 2024-04-30 12284630154          KG                   3404.91     1RVEFQ           TD24                       FRUTTETO CASAGRANDE S.R.L.       VIA G.C.PROCACCINI 28       2.0                                                                                                                                                                                                VERONESE                9.80            4.900                 Food\n",
      "IT12281740154Z0001_QOHHE.xml.p7m        4.639931e+09           4.0 2024-03-30 12284630154          KG                   5581.30     1QOHHE           TD24                       FRUTTETO CASAGRANDE S.R.L.            Via Taramelli,70       1.0                                                                                                                                                                                           STRACCIATELLA               12.00           12.000                 Food\n",
      "        ITRSCFBA59B18B250M_26544        5.997081e+09          10.0 2024-02-26  1109990315          KG                   3680.80      26544           TD24                                     SARDAMAR SRL        VIA G. C. Procaccini       3.0 Piè d'asino - mandorla - amandes (Glycymeris glycymeris) (GKL) Pescato nel Atlantico nord-orientale - FAO 27.VII Mar d'Irlanda - Draghe tirante da natanti Lotto: 240220-363/3 - LOTTO FORNITORE 094003               17.70            5.900                 Food\n",
      "IT12281740154Z0001_QOHHE.xml.p7m        4.639931e+09           4.0 2024-03-30 12284630154          KG                   5581.30     1QOHHE           TD24                       FRUTTETO CASAGRANDE S.R.L.            Via Taramelli,70       1.2                                                                                                                                                                                                 FRAGOLE                8.28            6.900                 Food\n",
      "             IT04157540966_4tjfm        1.009275e+10           4.0 2024-04-16  2827030962         NaN                   1044.70      4tjfm           TD01                              METRO Italia S.p.A.     VIA FRANCESCO ALGAROTTI       1.0                                                                                                                                                                                 KG1,3 RICOTTA FRESCA MC                5.21            5.210                 Food\n",
      "             IT04157540966_4g4qr        4.639931e+09           4.0 2024-03-26  2827030962         NaN                    489.55      4g4qr           TD01                              METRO Italia S.p.A.      VIA TORQUATO TARAMELLI       2.0                                                                                                                                                                                KG5 FARINA MANITOBA 0 MC               11.98            5.990                 Food\n",
      "             IT00264080102_02LBX        4.639931e+09          22.0 2024-04-17   264080102         NaN                   1270.35      AQ973           TD01                                    Velier S.p.A.            VIA TARAMELLI 70       0.0                                                                                           Imposta di bollo assolta in modo virtuale ai sensi dell'articolo 15 del D.P.R. 642/1972 e del D.M. 17/06/2014                0.00            0.000 Spese Amministrative\n",
      "             IT04157540966_3wr1s        1.009275e+10          22.0 2024-02-24  2827030962         NaN                    378.72      3wr1s           TD01                              METRO Italia S.p.A.     VIA FRANCESCO ALGAROTTI       6.0                                                                                                                                                                            CL50 PASS PANT DOP LIQU TDZ*               46.50            7.750                 Food\n",
      "             IT01837320157_00BPU        1.009275e+10           4.0 2024-03-27  1837320157         NaN                    468.00 sfialffmqr           TD01             AZIENDA AGRICOLA RISERVA SAN MASSIMO            VIA ALGAROTTI 22       NaN                                                                                                                             Riga ausiliaria contenente informazioni tecniche e aggiuntive del documento                0.00            0.000                 Note\n",
      "     IT10903181005_K01SM.xml.p7m        1.145144e+10          22.0 2024-02-07 10903181005          NR                    394.41 2024002326           TD01                  ITTICA URBANO SRL A SOCIO UNICO             VIA DURINI,  28       1.0                                                                                                                                                                                         Spese trasporto                6.49            6.490      Spese Trasporto\n",
      "     IT02355260981_QFADK.xml.p7m        4.639931e+09          22.0 2024-03-31   734840150          KG                    632.48      QFADK           TD24                                        HARDY SRL            VIA TARAMELLI 70       1.0                                                                                                                                                                                             Lotto  Z26N                0.00            0.000                 Note\n",
      "     IT02355260981_PEtTN.xml.p7m        1.009275e+10          22.0 2024-01-31   734840150         NaN                   1223.60      PEtTN           TD24                                        HARDY SRL  VIA FRANCESCO ALGAROTTI 22       0.0                                                                                                                                                                 Nota consegna 00000220/V01 del 30/01/24                0.00            0.000                 Note\n",
      "        IT016417907022024V_01m9g        1.009275e+10          22.0 2024-02-02  6682680159         NaN                   2440.00 000039mifn           TD01                             STUDIOCANDIDO S.r.l. VIA ALGAROTTI FRANCESCO, 22       1.0                                                                                                                                                                             Ordine n. 58 del 24/01/2024                0.00            0.000                 Note\n",
      "        IT016417907022024p_03VsO        1.145144e+10          22.0 2024-04-15  1576310039       Pezzi                   2265.29     313434           TD01                                    ZOPPIS SRL SB              VIA DURINI, 28       6.0                                                                                                                                                      BRIK ARANCIA    Magnum   STERILGARDA  l.1259042416                9.33            1.555             Beverage\n",
      "IT0526289001424010_TA3K5.xml.p7m        1.009275e+10          22.0 2024-01-10  2555110424         NaN                   2359.72      52546           TD01 Angelini Wines & Estates Società Agricola a r.l. VIA FRANCESCO ALGAROTTI, 22       0.0                                                                                                                                                                     Ns. Ordine 24-OV000121 del 09/01/24                0.00            0.000                 Note\n",
      "     IT04107060966_4EMcp.xml.p7m        4.639931e+09          22.0 2024-04-09 10542790968         NaN                    219.60      4EMcp           TD01                             NEXI PAYMENTS S.p.A.            VIA TARAMELLI 70       1.0                                                                                                                                                COMMISSIONE DI INATTIVITA' - Comp. febbraio '24 11258346               12.00           12.000          Commissioni\n",
      "             IT01533080675_6ruw2        1.009275e+10          22.0 2024-04-30  2567060120          N.                   2274.08      00HCL           TD24                                       NBG IN SRL VIA FRANCESCO ALGAROTTI, 22     168.0                                                                                                                                                                                             TOV.LO LINO               42.00            0.250    Attrezzature Sala\n"
     ]
    }
   ],
   "source": [
    "fatture_categorizzate = pd.read_csv('categorized_output.csv')\n",
    "print(f\"Fatture categorizzate dataset shape: {fatture_categorizzate.shape}\")\n",
    "print(fatture_categorizzate.sample(20).to_string(index=False))"
   ]
  },
  {
   "cell_type": "code",
   "execution_count": null,
   "id": "8f3d2e7c",
   "metadata": {},
   "outputs": [
    {
     "name": "stdout",
     "output_type": "stream",
     "text": [
      "Initial dataframe shape:\n",
      "(25194, 16)\n",
      "Dataframe shape after clustering:\n",
      "(25194, 17)\n",
      "Dataframe shape after selecting representatives:\n",
      "(3988, 17)\n",
      "Reduced dataset shape: (3988, 17)\n"
     ]
    }
   ],
   "source": [
    "clustered_fatture = dp.sequential_cluster(fatture_categorizzate, threshold=0.8)\n",
    "reduced_row = dp.representatives(clustered_fatture)\n"
   ]
  }
 ],
 "metadata": {
  "kernelspec": {
   "display_name": "mlgs",
   "language": "python",
   "name": "python3"
  },
  "language_info": {
   "codemirror_mode": {
    "name": "ipython",
    "version": 3
   },
   "file_extension": ".py",
   "mimetype": "text/x-python",
   "name": "python",
   "nbconvert_exporter": "python",
   "pygments_lexer": "ipython3",
   "version": "3.11.9"
  }
 },
 "nbformat": 4,
 "nbformat_minor": 5
}
